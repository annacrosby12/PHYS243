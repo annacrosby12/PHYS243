{
  "nbformat": 4,
  "nbformat_minor": 0,
  "metadata": {
    "colab": {
      "name": "PHYS243Final.ipynb",
      "version": "0.3.2",
      "provenance": [],
      "collapsed_sections": []
    },
    "kernelspec": {
      "name": "python3",
      "display_name": "Python 3"
    }
  },
  "cells": [
    {
      "cell_type": "markdown",
      "metadata": {
        "id": "vvvxcLtmo8Lh",
        "colab_type": "text"
      },
      "source": [
        "As a roadmap, I will be utilizing code from the notebook8 but explaining steps throughout. My understanding is that the dataset provided will be used to train the model, of which the output is the third column (color). I will train the model using the provided data and then evaluate how accurately it predicted the color (which I can see). \n",
        "\n",
        "Then, theoretically, another dataset exists by which the model's performance will be evaluated. I do not have access to the test dataset (unless I split the existing dataset into training/test sets). It is my understanding the the TA will evaluate the model (however far I get) by using his hidden test set. "
      ]
    },
    {
      "cell_type": "code",
      "metadata": {
        "id": "RbcxLGomBsOj",
        "colab_type": "code",
        "colab": {}
      },
      "source": [
        "from sklearn import preprocessing\n",
        "from pandas import Series, DataFrame\n",
        "import pandas as pd\n",
        "import numpy as np\n",
        "import os\n",
        "import matplotlib.pylab as plt\n",
        "from sklearn.model_selection import train_test_split\n",
        "\n",
        "\n",
        "# font parameters dictionary\n",
        "font = {'family' : 'serif',\n",
        "        'weight' : 'bold',\n",
        "        'size'   : 18,}\n",
        "\n",
        "\n",
        "# figure parameters dictionary\n",
        "figure = {\"figsize\" : (6,6),\n",
        "          \"dpi\" : 120,\n",
        "          \"facecolor\" : \"w\",\n",
        "          \"edgecolor\" : \"k\",}\n",
        "\n",
        "# use LaTeX fonts in the plot\n",
        "plt.rc('text', usetex=False)\n",
        "\n",
        "# ticks settings\n",
        "plt.rc('xtick',labelsize=10)\n",
        "plt.rc('ytick',labelsize=10)\n",
        "\n",
        "# axes setting\n",
        "plt.rc('axes', titlesize=22, labelsize=18)     # fontsize of the axes title, labels\n",
        "\n",
        "# Set the font parameters\n",
        "plt.rc('font', **font)\n",
        "\n",
        "# Set the figure parameters\n",
        "plt.rc(\"figure\", **figure)"
      ],
      "execution_count": 0,
      "outputs": []
    },
    {
      "cell_type": "markdown",
      "metadata": {
        "id": "jkVNFRvAiwQC",
        "colab_type": "text"
      },
      "source": [
        "We will be predicting the color of dot based on the values of the two features. So the target would be in the color column (as I am structuring the data into a pd dataframe with column names \"feature_1\", \"feature_2\", and \"color\").\n",
        "\n",
        "I will be plotting the data according to this format to ensure that it lines up with the given information on the homework sheet. The first two columns will represent the x and y axes and the last column will dictate the color of the plotted points."
      ]
    },
    {
      "cell_type": "code",
      "metadata": {
        "id": "yxUb1_p-B2v9",
        "colab_type": "code",
        "outputId": "01f521ff-731c-43b2-ba42-cbde22a9bbd3",
        "colab": {
          "base_uri": "https://localhost:8080/",
          "height": 195
        }
      },
      "source": [
        "import pandas as pd\n",
        "import numpy as np\n",
        "\n",
        "headers = [\"feature_1\", \"feature_2\", \"color\"]\n",
        "\n",
        "df = pd.read_csv(\"https://abtinshahidi.github.io/files/train_set.txt\",\n",
        "                  header=None, names=headers, na_values=\"?\" )\n",
        "df.head()"
      ],
      "execution_count": 3,
      "outputs": [
        {
          "output_type": "execute_result",
          "data": {
            "text/html": [
              "<div>\n",
              "<style scoped>\n",
              "    .dataframe tbody tr th:only-of-type {\n",
              "        vertical-align: middle;\n",
              "    }\n",
              "\n",
              "    .dataframe tbody tr th {\n",
              "        vertical-align: top;\n",
              "    }\n",
              "\n",
              "    .dataframe thead th {\n",
              "        text-align: right;\n",
              "    }\n",
              "</style>\n",
              "<table border=\"1\" class=\"dataframe\">\n",
              "  <thead>\n",
              "    <tr style=\"text-align: right;\">\n",
              "      <th></th>\n",
              "      <th>feature_1</th>\n",
              "      <th>feature_2</th>\n",
              "      <th>color</th>\n",
              "    </tr>\n",
              "  </thead>\n",
              "  <tbody>\n",
              "    <tr>\n",
              "      <th>0</th>\n",
              "      <td>16.263398</td>\n",
              "      <td>13.299206</td>\n",
              "      <td>r</td>\n",
              "    </tr>\n",
              "    <tr>\n",
              "      <th>1</th>\n",
              "      <td>0.775408</td>\n",
              "      <td>23.986692</td>\n",
              "      <td>r</td>\n",
              "    </tr>\n",
              "    <tr>\n",
              "      <th>2</th>\n",
              "      <td>29.170503</td>\n",
              "      <td>-3.287474</td>\n",
              "      <td>r</td>\n",
              "    </tr>\n",
              "    <tr>\n",
              "      <th>3</th>\n",
              "      <td>6.739044</td>\n",
              "      <td>-28.033329</td>\n",
              "      <td>r</td>\n",
              "    </tr>\n",
              "    <tr>\n",
              "      <th>4</th>\n",
              "      <td>3.216100</td>\n",
              "      <td>22.013695</td>\n",
              "      <td>r</td>\n",
              "    </tr>\n",
              "  </tbody>\n",
              "</table>\n",
              "</div>"
            ],
            "text/plain": [
              "   feature_1  feature_2 color\n",
              "0  16.263398  13.299206     r\n",
              "1   0.775408  23.986692     r\n",
              "2  29.170503  -3.287474     r\n",
              "3   6.739044 -28.033329     r\n",
              "4   3.216100  22.013695     r"
            ]
          },
          "metadata": {
            "tags": []
          },
          "execution_count": 3
        }
      ]
    },
    {
      "cell_type": "code",
      "metadata": {
        "id": "ywyhBxYaOLfa",
        "colab_type": "code",
        "outputId": "90214b13-a4b5-4051-ecab-595e3e3859f9",
        "colab": {
          "base_uri": "https://localhost:8080/",
          "height": 34
        }
      },
      "source": [
        "df[\"feature_1\"].mean()"
      ],
      "execution_count": 4,
      "outputs": [
        {
          "output_type": "execute_result",
          "data": {
            "text/plain": [
              "0.596296010852416"
            ]
          },
          "metadata": {
            "tags": []
          },
          "execution_count": 4
        }
      ]
    },
    {
      "cell_type": "code",
      "metadata": {
        "id": "ddcvQKcaOPXR",
        "colab_type": "code",
        "outputId": "63351dbe-2616-4880-fcd2-68f86cae5f54",
        "colab": {
          "base_uri": "https://localhost:8080/",
          "height": 34
        }
      },
      "source": [
        "df[\"feature_2\"].mean()"
      ],
      "execution_count": 5,
      "outputs": [
        {
          "output_type": "execute_result",
          "data": {
            "text/plain": [
              "1.0790705154597384"
            ]
          },
          "metadata": {
            "tags": []
          },
          "execution_count": 5
        }
      ]
    },
    {
      "cell_type": "code",
      "metadata": {
        "id": "iTXDIJUuOvB-",
        "colab_type": "code",
        "outputId": "325f7edf-3027-48e5-e94f-a82c3ddd0e0e",
        "colab": {
          "base_uri": "https://localhost:8080/",
          "height": 669
        }
      },
      "source": [
        "df.plot(x='feature_1', y='feature_2', style='o')"
      ],
      "execution_count": 6,
      "outputs": [
        {
          "output_type": "execute_result",
          "data": {
            "text/plain": [
              "<matplotlib.axes._subplots.AxesSubplot at 0x7f51748cf898>"
            ]
          },
          "metadata": {
            "tags": []
          },
          "execution_count": 6
        },
        {
          "output_type": "display_data",
          "data": {
            "image/png": "[encoded data removed]",
            "text/plain": [
              "<Figure size 720x720 with 1 Axes>"
            ]
          },
          "metadata": {
            "tags": []
          }
        }
      ]
    },
    {
      "cell_type": "markdown",
      "metadata": {
        "id": "v5gkSp53jMuw",
        "colab_type": "text"
      },
      "source": [
        "Setting column 3 values to dictate color..."
      ]
    },
    {
      "cell_type": "code",
      "metadata": {
        "id": "BxJ9H7TbRswx",
        "colab_type": "code",
        "outputId": "decd9a34-dd18-4abd-bda6-b668a0dee2da",
        "colab": {
          "base_uri": "https://localhost:8080/",
          "height": 593
        }
      },
      "source": [
        "import seaborn as sns\n",
        "headers2 = [\"feature_1\", \"feature_2\", \"color\"]\n",
        "\n",
        "df2 = pd.read_csv(\"https://abtinshahidi.github.io/files/train_set.txt\",\n",
        "                  header=None, names=headers, na_values=\"?\" )\n",
        " \n",
        "# Use the 'hue' argument to provide a factor variable\n",
        "sns.lmplot( x=\"feature_1\", y=\"feature_2\", data=df2, fit_reg=False, hue='color', legend=False)\n"
      ],
      "execution_count": 7,
      "outputs": [
        {
          "output_type": "execute_result",
          "data": {
            "text/plain": [
              "<seaborn.axisgrid.FacetGrid at 0x7f5165e3dc18>"
            ]
          },
          "metadata": {
            "tags": []
          },
          "execution_count": 7
        },
        {
          "output_type": "display_data",
          "data": {
            "image/png": "[encoded data removed]",
            "text/plain": [
              "<Figure size 600x600 with 1 Axes>"
            ]
          },
          "metadata": {
            "tags": []
          }
        }
      ]
    },
    {
      "cell_type": "markdown",
      "metadata": {
        "id": "Vq68E9VBk4pT",
        "colab_type": "text"
      },
      "source": [
        "Setting definitions for activations and functions occuring within net. \n",
        "\n",
        "\n",
        "**Key Callouts:** The weights need to be randomly assigned initially (below), but will be optimized and refined later through back-propagation.\n",
        "\n",
        "\"dot\" definition will be allowing us to multiply the matrices (through layers).\n",
        "\n",
        "\"sigmoid\" will be initialized and used to give us real-valued output in the format of a smooth function (derivatives are easily taken from a sigmoid due to smoothness).\n",
        "\n",
        "A variety of activation functions are defined: sigmoid (more smooth, see above), ReLU (rectified linear unit, has more advantageous gradient which can be more helpful than sigmoid activation function on large or noisy datasets), exponential (means tend towards 0 which can make the analysis faster; might not be necessary in this case), and lastly the leaky ReLU (when the tradient becomes inactive, the leaky ReLU inflates it a little bit as can be seen by the alpha value of 0.01).\n",
        "\n",
        "\n",
        "\n"
      ]
    },
    {
      "cell_type": "code",
      "metadata": {
        "id": "-fFmyZGbh0DU",
        "colab_type": "code",
        "colab": {}
      },
      "source": [
        "def dot(X, Y):\n",
        "   \n",
        "    return sum(x * y for x, y in zip(X, Y))\n",
        "\n",
        "def add_vectors(a, b):\n",
        "    \"\"\"addition of two vectors by adding every component.\"\"\"\n",
        "    from operator import add\n",
        "    return tuple(map(add, a, b))\n",
        "\n",
        "\n",
        "def product_scalar_vector(X, Y):\n",
        "    \"\"\"Return vector as a product of a scalar and a vector\"\"\"\n",
        "    return [X * y for y in Y]\n",
        "\n",
        "\n",
        "def softmax(X, j):\n",
        "    from math import exp\n",
        "    d = sum([exp(x) for x in X])\n",
        "    return exp(X[j])/d\n",
        "\n",
        "def softmax_derivative(X, dj, i):\n",
        "    if dj == i:\n",
        "        return X[i] * (1 - X[j])\n",
        "    else:\n",
        "        return - X[i] * X[j]\n",
        "        \n",
        "def stablesoftmax(x):\n",
        "    \"\"\"Compute the softmax of vector x in a numerically stable way.\"\"\"\n",
        "    import numpy as np\n",
        "    shiftx = x - np.max(x)\n",
        "    exps = np.exp(shiftx)\n",
        "    return exps / np.sum(exps)\n",
        "\n",
        "def sigmoid(x):\n",
        "    \"\"\"Sigmoid function activation\"\"\"\n",
        "    from math import exp\n",
        "    try:\n",
        "        return 1 / (1 + exp(-x))\n",
        "    except OverflowError:\n",
        "        from numpy import exp\n",
        "        return 1 / (1 + exp(-x))\n",
        "\n",
        "def sigmoid_derivative(value):\n",
        "    return value * (1 - value)\n",
        "\n",
        "\n",
        "\n",
        "def rectified_LU(x):\n",
        "    \"\"\"\n",
        "    Rectified Linear Unit (ReLU) activation\n",
        "    \"\"\"\n",
        "    return max(0, x)\n",
        "\n",
        "def rectified_LU_derivative(value):\n",
        "    if value > 0:\n",
        "        return 1\n",
        "    else:\n",
        "        return 0\n",
        "\n",
        "\n",
        "    \n",
        "def exponential_LU(x, alpha=0.01):\n",
        "    \"\"\"\n",
        "    Exponential Linear Unit (ELU) activation\n",
        "    \"\"\"\n",
        "    from math import exp\n",
        "    if x > 0:\n",
        "        return x\n",
        "    else:\n",
        "        return alpha * (exp(x) - 1)\n",
        "\n",
        "    \n",
        "def exponential_LU_derivative(value, alpha = 0.01):\n",
        "    from math import exp\n",
        "    if value > 0:\n",
        "        return 1\n",
        "    else:\n",
        "        return alpha * exp(value) \n",
        "\n",
        "    \n",
        "def tanh(x):\n",
        "    \"\"\"\n",
        "    Hyperbolic tangent activation\n",
        "    \"\"\"\n",
        "    from numpy import tanh\n",
        "    return tanh(x)\n",
        "\n",
        "def tanh_derivative(value):\n",
        "    return (1 - (value ** 2))\n",
        "\n",
        "\n",
        "\n",
        "\n",
        "def leaky_ReLU(x, alpha = 0.01):\n",
        "    \"\"\"\n",
        "    Leaky Rectified Linear Unit activation\n",
        "    \"\"\"\n",
        "    if x > 0:\n",
        "        return x\n",
        "    else:\n",
        "        return alpha * x\n",
        "\n",
        "def leaky_ReLU_derivative(value, alpha=0.01):\n",
        "    if value > 0:\n",
        "        return 1\n",
        "    else:\n",
        "        return alpha\n",
        "\n",
        "\n",
        "\n",
        "def step(x):\n",
        "    \"\"\"sign function activation \"\"\"\n",
        "    return 1 if x >= 0 else 0\n",
        "\n",
        "\n",
        "\n",
        "def find_max_neuron(neurons):\n",
        "    return neurons.index(max(neurons, key=lambda neuron: neuron.value))\n",
        "\n",
        "def find_softmax(neurons):\n",
        "    vals = [neuron.value for neuron in neurons]\n",
        "    softmax_list = [softmax(vals, i) for i in range(len(vals))]\n",
        "    return softmax_list\n",
        "\n",
        "\n",
        "\n",
        "def random_weights(min_value, max_value, num_weights):\n",
        "    from random import uniform\n",
        "    return [uniform(min_value, max_value) for _ in range(num_weights)]\n",
        "\n",
        "\n",
        "def initialize_examples(examples, idx_inputs, idx_output, output_neurons):\n",
        "    \"\"\"\n",
        "    Initialize the examples and find the inputs and modidied output \n",
        "    \n",
        "    If the output has N distinct classes the output will be:\n",
        "    \n",
        "    an array of lenght N:\n",
        "    \n",
        "        [0, 0, 0, 0, ..., 1, ..., 0, 0]\n",
        "        1 is at j which is a number associated with our classes  \n",
        "\n",
        "    \"\"\"\n",
        "    # a dictionary for putting the inputs and outputs \n",
        "    inputs, outputs = {}, {}\n",
        "    \n",
        "    # Finding a list of output values (str, int, float)\n",
        "    values = [example[idx_output] for example in examples]\n",
        "    \n",
        "    # Find the distinct values, which are our classes\n",
        "    # Remmeber that for float values this cannot be \n",
        "    # an effient classifications if the variety of the \n",
        "    # values is large\n",
        "    classes = list(set(values))\n",
        "    print(\"The starting classes are: \", classes) \n",
        "    \n",
        "    # Go through every example in the list of examples\n",
        "    for i, example in enumerate(examples):\n",
        "        # find the input values of i'th example \n",
        "        inputs[i] = [example[j] for j in idx_inputs]\n",
        "        \n",
        "        # if we have more than one neuron for output\n",
        "        if output_neurons > 1:\n",
        "            # Check whether the number of output neurons\n",
        "            # and classes are the same\n",
        "            assert output_neurons == len(classes), \"Number of classes {} is not equal \\\n",
        "            to Number of output neurons {}\".format(len(classes), output_neurons)\n",
        "            \n",
        "            # Go through different classes and find the \n",
        "            # one for this example, and assign a number \n",
        "            # to it\n",
        "            for j, class_ in enumerate(classes):\n",
        "                if example[idx_output]==class_:\n",
        "                    example[idx_output] = j\n",
        "            \n",
        "            # One-Hot representation of example's output\n",
        "            t = [0 for i in range(output_neurons)]\n",
        "            t[example[idx_output]] = 1\n",
        "            outputs[i] = t\n",
        "        else:\n",
        "            # Output value of example\n",
        "            outputs[i] = [example[idx_output]]\n",
        "            \n",
        "    print(\"The assigned classes are: \", list(range(len(classes)))) \n",
        "    return inputs, outputs\n",
        "\n",
        "\n",
        "\n",
        "# import only system from os \n",
        "from os import system, name \n",
        "  \n",
        "# define our clear function \n",
        "def clear(): \n",
        "  \n",
        "    # for windows \n",
        "    if name == 'nt': \n",
        "        _ = system('cls') \n",
        "   \n",
        "    else: \n",
        "        _ = system('clear')"
      ],
      "execution_count": 0,
      "outputs": []
    },
    {
      "cell_type": "markdown",
      "metadata": {
        "id": "kbHcSN1ViKaC",
        "colab_type": "text"
      },
      "source": [
        "Defining classes of neuron, network and initializing. Connections are also defined (synapses). The connections contain weights, since they need to have different values of importance. Weights and inputs are incoming since we are working with a feed forward mechanism. The number of layers is variable, but we are trying to find the most simple network, which contextually would have the fewest hidden layers."
      ]
    },
    {
      "cell_type": "code",
      "metadata": {
        "id": "YN163zWFiI7i",
        "colab_type": "code",
        "colab": {}
      },
      "source": [
        "class Neuron:\n",
        "  \n",
        "    def __init__(self, activation=sigmoid, weights=None, inputs=None, layer=None, number=None):\n",
        "        self.weights = weights or []\n",
        "        self.inputs = inputs or []\n",
        "        self.value = None\n",
        "        self.activation = activation\n",
        "        self.layer = layer \n",
        "        self.num = number\n",
        "        \n",
        "        \n",
        "        \n",
        "class Network:\n",
        "    def __init__(self, input_neurons, hidden_layer_sizes, output_neurons, activation=sigmoid):\n",
        "        network_layers_sizes = [input_neurons] + hidden_layer_sizes + [output_neurons]\n",
        "        self.size = network_layers_sizes\n",
        "        \n",
        "        network = []\n",
        "        for i,layer_size in enumerate(network_layers_sizes):\n",
        "            layer = []\n",
        "            for j in range(layer_size):\n",
        "                layer.append(Neuron(activation, layer=i, number=j))\n",
        "            network.append(layer)  \n",
        "        self.network = network\n",
        "        self.make_connections()\n",
        "        self.hidden_layers = network[1:-1]\n",
        "        self.input_layer = network[0]\n",
        "        self.output_layer = network[-1]\n",
        "        \n",
        "        \n",
        "        \n",
        "    def make_connections(self):\n",
        "        number_of_layers = len(self.network)\n",
        "        # Make Connection between nodes in layers \n",
        "        # Going thorough layer i > 0\n",
        "        for i in range(1, number_of_layers):\n",
        "            # Going through every neurons in the  layer (i)\n",
        "            for neuron_1 in self.network[i]:\n",
        "                # Going through every neurons in the layer (i-1)\n",
        "                 for neuron_2 in self.network[i-1]:\n",
        "                    neuron_1.inputs.append(neuron_2)\n",
        "                    neuron_1.weights.append(0)"
      ],
      "execution_count": 0,
      "outputs": []
    },
    {
      "cell_type": "markdown",
      "metadata": {
        "id": "ENDzW69rsG10",
        "colab_type": "text"
      },
      "source": [
        "I have selected the sigmoid activation function due to smoothness and the most simple derivative option. \n",
        "\n",
        "We can see evidence of the back-propagation method in the definitions of input_ and output_layer. The output layer calls in the index [-1] which is indicative of the errors being examines at the output layer (last index) and then return to the hidden layers in the opposite direction to reduce error and optimize weights.\n",
        "\n",
        "\n",
        "In the below code, the delta figures represent the error that we are summing and evaluating as we back-propagate to minimize."
      ]
    },
    {
      "cell_type": "code",
      "metadata": {
        "id": "_mlVeVgJr0g9",
        "colab_type": "code",
        "colab": {}
      },
      "source": [
        "def network(input_neurons, hidden_layer_sizes, output_neurons, activation=sigmoid):\n",
        "    \"\"\"\n",
        "    Making a directed acyclic network of given number layers.\n",
        "    \n",
        "    input_neurons : \n",
        "    hidden_layers_sizes : List number of neuron units in each hidden layer\n",
        "    excluding input and output layers\n",
        "    \"\"\"\n",
        "    \n",
        "    network_layers_sizes = [input_neurons] + hidden_layer_sizes + [output_neurons]\n",
        "    \n",
        "    network = []\n",
        "    for layer_size in network_layers_sizes:\n",
        "        layer = []\n",
        "        for i in range(layer_size):\n",
        "            layer.append(Neuron(activation))\n",
        "        network.append(layer)\n",
        "    \n",
        "    number_of_layers = len(network)\n",
        "    \n",
        "    # Make Connection between neurons in layers \n",
        "    # Going thorough layer i > 0\n",
        "    for i in range(1, number_of_layers):\n",
        "        # Going through every neurons in the  layer (i)\n",
        "        for neuron_1 in network[i]:\n",
        "            # Going through every neurons in the layer (i-1)\n",
        "             for neuron_2 in network[i-1]:\n",
        "                neuron_1.inputs.append(neuron_2)\n",
        "                neuron_1.weights.append(0)\n",
        "    return network\n",
        "\n",
        "\n",
        "def random_weights(min_value, max_value, num_weights):\n",
        "    from random import uniform\n",
        "    return [uniform(min_value, max_value) for _ in range(num_weights)]\n",
        "\n",
        "\n",
        "def BackPropagationLearner(dataset, network, learning_rate, epochs, activation=sigmoid, record=False):\n",
        "    \"\"\"The back-propagation algorithm for multilayer networks from:\n",
        "    Aritificial Intelligence: A modern approach by Russell And Norvig,  chapter 18\n",
        "    \n",
        "    \"\"\"\n",
        "    from numpy import dot\n",
        "    # Initialise weights\n",
        "    for layer in network:\n",
        "        for neuron in layer:\n",
        "            neuron.weights = random_weights(min_value=-0.5, max_value=0.5,\n",
        "                                            num_weights=len(neuron.weights))\n",
        "\n",
        "    examples = dataset.examples\n",
        "\n",
        "    # Find the input/output layers\n",
        "    output_layer = network[-1]\n",
        "    input_layer = network[0]\n",
        "\n",
        "    # Find the number of output neurons\n",
        "    output_neurons = len(output_layer)\n",
        "    \n",
        "    # Find the indices for inputs and outputs\n",
        "    idx_output = dataset.target_attribute\n",
        "    idx_inputs = dataset.input_attributes\n",
        "    \n",
        "    # Find the number of layers\n",
        "    number_of_layers = len(network)\n",
        "    \n",
        "    # inputs, outputs from examples\n",
        "    inputs, targets = initilize_examples(examples, idx_inputs, \n",
        "                                         idx_output, output_neurons)\n",
        "\n",
        "    _network_record_keeper = {}\n",
        "    \n",
        "    # going through different epoch of learning\n",
        "    for epoch in range(epochs):\n",
        "        # Save the network at every epoch if record==True\n",
        "        if record:\n",
        "            _network_record_keeper[epoch] = Network\n",
        "        # Iterate over each example\n",
        "        for i in range(len(examples)):\n",
        "            input_values = inputs[i]\n",
        "            target = targets[i]\n",
        "\n",
        "            # Activate the input layer\n",
        "            for value, neuron in zip(input_values, input_layer):\n",
        "                neuron.value = value\n",
        "\n",
        "            # Forward pass and activate neurons\n",
        "            for layer in network[1:]:\n",
        "                for neuron in layer:\n",
        "                    input_values_list = [n.value for n in neuron.inputs]\n",
        "                    dot0 = dot(input_values_list, neuron.weights)\n",
        "                    neuron.value = neuron.activation(dot0)\n",
        "\n",
        "            # Initialize delta for storing the errors\n",
        "            delta = [[] for _ in range(number_of_layers)]\n",
        "\n",
        "            # Compute last layer's error (Δ_k/)\n",
        "            # Error for the Mean Squared Error (MSE) cost function\n",
        "            error = [target[i] - output_layer[i].value for i in range(output_neurons)]\n",
        "\n",
        "            # Calculate delta at output with different activation functions\n",
        "            # =======\n",
        "            # Sigmoid \n",
        "            if neuron.activation == sigmoid:\n",
        "                delta[-1] = [sigmoid_derivative(output_layer[i].value) * error[i] for i in range(output_neurons)]\n",
        "            # rectified_LU \n",
        "            elif neuron.activation == rectified_LU:\n",
        "                delta[-1] = [rectified_LU_derivative(output_layer[i].value) * error[i] for i in range(output_neurons)]\n",
        "            # Hyperbolic tangent      \n",
        "            elif neuron.activation == tanh:\n",
        "                delta[-1] = [tanh_derivative(output_layer[i].value) * error[i] for i in range(output_neurons)]\n",
        "            # Exponential_LU \n",
        "            elif neuron.activation == exponential_LU:\n",
        "                delta[-1] = [exponential_LU_derivative(output_layer[i].value) * error[i] for i in range(output_neurons)]\n",
        "            else:\n",
        "                delta[-1] = [leaky_ReLU_derivative(output_layer[i].value) * error[i] for i in range(output_neurons)]\n",
        "\n",
        "\n",
        "            # Find the number of hidden layers\n",
        "            number_of_hidden_layers = number_of_layers - 2\n",
        "            \n",
        "            # Going Backward (Back propagation)\n",
        "            for i in range(number_of_hidden_layers, 0, -1):\n",
        "                # what is the current layer\n",
        "                layer = network[i]\n",
        "                # Find number of neurons at this layer\n",
        "                number_of_neurons = len(layer)\n",
        "                # Find the next layer\n",
        "                next_layer = network[i+1]\n",
        "\n",
        "                # weights from each of layer (i) neurons to each layer (i + 1) neurons\n",
        "                w = [[neuron.weights[k] for neuron in next_layer] for k in range(number_of_neurons)]\n",
        "\n",
        "                # Calculate delta at output with different activation functions\n",
        "                if activation == sigmoid:\n",
        "                    err = []\n",
        "                    # going through all the neurons to find the assosciated errors\n",
        "                    for j in range(number_of_neurons):\n",
        "                        e = sigmoid_derivative(layer[j].value) * dot(w[j], delta[i+1])\n",
        "                        err.append(e)\n",
        "                    delta[i] = err\n",
        "\n",
        "                elif activation == rectified_LU:\n",
        "                    err = []\n",
        "                    # going through all the neurons to find the assosciated errors\n",
        "                    for j in range(number_of_neurons):\n",
        "                        e = sigmoid_derivative(layer[j].value) * dot(w[j], delta[i+1])\n",
        "                        err.append(e)\n",
        "                    delta[i] = err\n",
        "                    \n",
        "                elif activation == tanh:\n",
        "                    err = []\n",
        "                    # going through all the neurons to find the assosciated errors\n",
        "                    for j in range(number_of_neurons):\n",
        "                        e = tanh_derivative(layer[j].value) * dot(w[j], delta[i+1])\n",
        "                        err.append(e)\n",
        "                    delta[i] = err\n",
        "\n",
        "                elif activation == exponential_LU:\n",
        "                    err = []\n",
        "                    # going through all the neurons to find the assosciated errors\n",
        "                    for j in range(number_of_neurons):\n",
        "                        e = exponential_LU_derivative(layer[j].value) * dot(w[j], delta[i+1])\n",
        "                        err.append(e)\n",
        "                    delta[i] = err\n",
        "                    \n",
        "                else: # Use the leaky ReLU activation function \n",
        "                    err = []\n",
        "                    # going through all the neurons to find the assosciated errors\n",
        "                    for j in range(number_of_neurons):\n",
        "                        e = leaky_ReLU_derivative(layer[j].value) * dot(w[j], delta[i+1])\n",
        "                        err.append(e)\n",
        "                    delta[i] = err\n",
        "                    \n",
        "                    # Do they below loop for EVERY single layer\n",
        "\n",
        "            #  Now that we have all the deltas let's update our weights\n",
        "            # We start from 1 and not 0 because the first layer does not have weights. Weights branch out after first layer.\n",
        "            for i in range(1, number_of_layers):\n",
        "                layer = network[i]\n",
        "                previous_layer_values = [neuron.value for neuron in network[i-1]]\n",
        "                number_of_neurons = len(layer)\n",
        "                \n",
        "                for j in range(number_of_neurons):\n",
        "                    # updates vector with the lenght of the previous layers\n",
        "                    updates = porduct_scalar_vector(learning_rate * delta[i][j],\n",
        "                                                    previous_layer_values)\n",
        "                    \n",
        "                    # adding previous layer with new weights to update \n",
        "                    layer[j].weights = add_vectors(layer[j].weights, updates)\n",
        "                    \n",
        "\n",
        "    if record:\n",
        "        return _network_record_keeper\n",
        "    else:\n",
        "        return network"
      ],
      "execution_count": 0,
      "outputs": []
    },
    {
      "cell_type": "markdown",
      "metadata": {
        "id": "dxAPEtSFtIwx",
        "colab_type": "text"
      },
      "source": [
        "Layered feed-forward network.\n",
        "**hidden_layer_sizes**: List of number of hidden units per hidden layer\n",
        "**learning_rate**: Learning rate of gradient descent\n",
        "**epochs**: Number of passes over the dataset"
      ]
    },
    {
      "cell_type": "code",
      "metadata": {
        "id": "rOZ7AomltF1L",
        "colab_type": "code",
        "colab": {}
      },
      "source": [
        "def Neural_Net_Learner(dataset, \n",
        "                       hidden_layer_sizes=[3],\n",
        "                       learning_rate=0.01, \n",
        "                       epochs=100, \n",
        "                       activation=sigmoid, \n",
        "                       softmax_output=False,):\n",
        "    \n",
        "    # Find the number of input and output neurons based on the dataset\n",
        "    input_neurons = len(dataset.input_attributes)\n",
        "    output_neurons = len(dataset.values[dataset.target_attribute])\n",
        "\n",
        "    # Construct a network with intial random\n",
        "    intital_network = network(input_neurons,\n",
        "                              hidden_layer_sizes, \n",
        "                              output_neurons,\n",
        "                              activation)\n",
        "    \n",
        "    learned_network = BackPropagationLearner(dataset, \n",
        "                                             intital_network,\n",
        "                                             learning_rate, \n",
        "                                             epochs,\n",
        "                                             activation,)\n",
        "                                             \n",
        "\n",
        "    def predict(example):\n",
        "        # Input neurons\n",
        "        input_neurons = learned_network[0]\n",
        "\n",
        "        # Activate input layer\n",
        "        for value, neuron in zip(example, input_neurons):\n",
        "            neuron.value = value\n",
        "\n",
        "        # Forward pass through the layers\n",
        "        for layer in learned_network[1:]:\n",
        "            # going through every neuron in layer\n",
        "            for neuron in layer:\n",
        "                input_values_list = [n.value for n in neuron.inputs]\n",
        "                dot0 = dot(input_values_list, neuron.weights)\n",
        "                neuron.value = neuron.activation(dot0)\n",
        "\n",
        "        # Hypothesis prediction\n",
        "        output_neurons = learned_network[-1]\n",
        "        if softmax_output:\n",
        "            prediction = find_softmax(output_neurons)\n",
        "        else:\n",
        "            prediction = find_max_neuron(output_neurons)\n",
        "        return prediction\n",
        "\n",
        "    return predict"
      ],
      "execution_count": 0,
      "outputs": []
    },
    {
      "cell_type": "markdown",
      "metadata": {
        "id": "H2SW88iNkhXs",
        "colab_type": "text"
      },
      "source": [
        "Next steps: use One-Hot Encoding to change categorical color column to binary numerical values. I also will be scaling the numeric columns (feature_1 and feature_2) by min-max scaling.\n",
        "\n",
        "Lastly I will divide the dataset into training and test sets."
      ]
    },
    {
      "cell_type": "code",
      "metadata": {
        "id": "MmjxvDaGkflo",
        "colab_type": "code",
        "outputId": "df853e0a-72c8-4723-aa5f-d00cd0a07217",
        "colab": {
          "base_uri": "https://localhost:8080/",
          "height": 195
        }
      },
      "source": [
        "# One-Hot Encoding\n",
        "df2 = pd.get_dummies(df, columns=[\"color\"])\n",
        "\n",
        "df2.head()"
      ],
      "execution_count": 12,
      "outputs": [
        {
          "output_type": "execute_result",
          "data": {
            "text/html": [
              "<div>\n",
              "<style scoped>\n",
              "    .dataframe tbody tr th:only-of-type {\n",
              "        vertical-align: middle;\n",
              "    }\n",
              "\n",
              "    .dataframe tbody tr th {\n",
              "        vertical-align: top;\n",
              "    }\n",
              "\n",
              "    .dataframe thead th {\n",
              "        text-align: right;\n",
              "    }\n",
              "</style>\n",
              "<table border=\"1\" class=\"dataframe\">\n",
              "  <thead>\n",
              "    <tr style=\"text-align: right;\">\n",
              "      <th></th>\n",
              "      <th>feature_1</th>\n",
              "      <th>feature_2</th>\n",
              "      <th>color_b</th>\n",
              "      <th>color_g</th>\n",
              "      <th>color_r</th>\n",
              "    </tr>\n",
              "  </thead>\n",
              "  <tbody>\n",
              "    <tr>\n",
              "      <th>0</th>\n",
              "      <td>16.263398</td>\n",
              "      <td>13.299206</td>\n",
              "      <td>0</td>\n",
              "      <td>0</td>\n",
              "      <td>1</td>\n",
              "    </tr>\n",
              "    <tr>\n",
              "      <th>1</th>\n",
              "      <td>0.775408</td>\n",
              "      <td>23.986692</td>\n",
              "      <td>0</td>\n",
              "      <td>0</td>\n",
              "      <td>1</td>\n",
              "    </tr>\n",
              "    <tr>\n",
              "      <th>2</th>\n",
              "      <td>29.170503</td>\n",
              "      <td>-3.287474</td>\n",
              "      <td>0</td>\n",
              "      <td>0</td>\n",
              "      <td>1</td>\n",
              "    </tr>\n",
              "    <tr>\n",
              "      <th>3</th>\n",
              "      <td>6.739044</td>\n",
              "      <td>-28.033329</td>\n",
              "      <td>0</td>\n",
              "      <td>0</td>\n",
              "      <td>1</td>\n",
              "    </tr>\n",
              "    <tr>\n",
              "      <th>4</th>\n",
              "      <td>3.216100</td>\n",
              "      <td>22.013695</td>\n",
              "      <td>0</td>\n",
              "      <td>0</td>\n",
              "      <td>1</td>\n",
              "    </tr>\n",
              "  </tbody>\n",
              "</table>\n",
              "</div>"
            ],
            "text/plain": [
              "   feature_1  feature_2  color_b  color_g  color_r\n",
              "0  16.263398  13.299206        0        0        1\n",
              "1   0.775408  23.986692        0        0        1\n",
              "2  29.170503  -3.287474        0        0        1\n",
              "3   6.739044 -28.033329        0        0        1\n",
              "4   3.216100  22.013695        0        0        1"
            ]
          },
          "metadata": {
            "tags": []
          },
          "execution_count": 12
        }
      ]
    },
    {
      "cell_type": "code",
      "metadata": {
        "id": "HAkMreBtqeY3",
        "colab_type": "code",
        "colab": {}
      },
      "source": [
        "# Scaling feature_1 and feature_2 data\n",
        "\n",
        "from sklearn import preprocessing\n",
        "from sklearn.preprocessing import StandardScaler\n",
        "from sklearn.model_selection import train_test_split"
      ],
      "execution_count": 0,
      "outputs": []
    },
    {
      "cell_type": "code",
      "metadata": {
        "id": "CxwrTcrvwVoM",
        "colab_type": "code",
        "colab": {}
      },
      "source": [
        "scaler = preprocessing.MinMaxScaler()\n",
        "\n",
        "min_max_scaler = preprocessing.MinMaxScaler()\n",
        "\n",
        "def scaleColumns(df, cols_to_scale):\n",
        "    for col in cols_to_scale:\n",
        "        df[col] = pd.DataFrame(min_max_scaler.fit_transform(pd.DataFrame(df[col])),columns=[col])\n",
        "    return df"
      ],
      "execution_count": 0,
      "outputs": []
    },
    {
      "cell_type": "code",
      "metadata": {
        "id": "flBtqrssOjn7",
        "colab_type": "code",
        "outputId": "f52af62a-bff4-4d2d-98f8-d4a38b18e3cd",
        "colab": {
          "base_uri": "https://localhost:8080/",
          "height": 195
        }
      },
      "source": [
        "scaled_df = scaleColumns(df2,['feature_1','feature_2'])\n",
        "scaled_df.head()"
      ],
      "execution_count": 29,
      "outputs": [
        {
          "output_type": "execute_result",
          "data": {
            "text/html": [
              "<div>\n",
              "<style scoped>\n",
              "    .dataframe tbody tr th:only-of-type {\n",
              "        vertical-align: middle;\n",
              "    }\n",
              "\n",
              "    .dataframe tbody tr th {\n",
              "        vertical-align: top;\n",
              "    }\n",
              "\n",
              "    .dataframe thead th {\n",
              "        text-align: right;\n",
              "    }\n",
              "</style>\n",
              "<table border=\"1\" class=\"dataframe\">\n",
              "  <thead>\n",
              "    <tr style=\"text-align: right;\">\n",
              "      <th></th>\n",
              "      <th>feature_1</th>\n",
              "      <th>feature_2</th>\n",
              "      <th>color_b</th>\n",
              "      <th>color_g</th>\n",
              "      <th>color_r</th>\n",
              "    </tr>\n",
              "  </thead>\n",
              "  <tbody>\n",
              "    <tr>\n",
              "      <th>0</th>\n",
              "      <td>0.624094</td>\n",
              "      <td>0.599995</td>\n",
              "      <td>0</td>\n",
              "      <td>0</td>\n",
              "      <td>1</td>\n",
              "    </tr>\n",
              "    <tr>\n",
              "      <th>1</th>\n",
              "      <td>0.487560</td>\n",
              "      <td>0.690910</td>\n",
              "      <td>0</td>\n",
              "      <td>0</td>\n",
              "      <td>1</td>\n",
              "    </tr>\n",
              "    <tr>\n",
              "      <th>2</th>\n",
              "      <td>0.737876</td>\n",
              "      <td>0.458897</td>\n",
              "      <td>0</td>\n",
              "      <td>0</td>\n",
              "      <td>1</td>\n",
              "    </tr>\n",
              "    <tr>\n",
              "      <th>3</th>\n",
              "      <td>0.540132</td>\n",
              "      <td>0.248392</td>\n",
              "      <td>0</td>\n",
              "      <td>0</td>\n",
              "      <td>1</td>\n",
              "    </tr>\n",
              "    <tr>\n",
              "      <th>4</th>\n",
              "      <td>0.509076</td>\n",
              "      <td>0.674127</td>\n",
              "      <td>0</td>\n",
              "      <td>0</td>\n",
              "      <td>1</td>\n",
              "    </tr>\n",
              "  </tbody>\n",
              "</table>\n",
              "</div>"
            ],
            "text/plain": [
              "   feature_1  feature_2  color_b  color_g  color_r\n",
              "0   0.624094   0.599995        0        0        1\n",
              "1   0.487560   0.690910        0        0        1\n",
              "2   0.737876   0.458897        0        0        1\n",
              "3   0.540132   0.248392        0        0        1\n",
              "4   0.509076   0.674127        0        0        1"
            ]
          },
          "metadata": {
            "tags": []
          },
          "execution_count": 29
        }
      ]
    },
    {
      "cell_type": "markdown",
      "metadata": {
        "id": "O83xvWZCO-iL",
        "colab_type": "text"
      },
      "source": [
        "At this point, the dataframe is successfully scaled wrt feature_1 and feature_2."
      ]
    },
    {
      "cell_type": "code",
      "metadata": {
        "id": "DA8BKsOPa0OX",
        "colab_type": "code",
        "colab": {}
      },
      "source": [
        "targets = (scaled_df,['color_b', 'color_g', 'color_r'])\n",
        "predictors = (scaled_df, ['feature_1', 'feature_2'])"
      ],
      "execution_count": 0,
      "outputs": []
    },
    {
      "cell_type": "markdown",
      "metadata": {
        "id": "LyMJHUznfwpw",
        "colab_type": "text"
      },
      "source": [
        "Separating training and test data occur next. Features and classes are shaped in the next cell to be prepped for the model. "
      ]
    },
    {
      "cell_type": "code",
      "metadata": {
        "id": "wab2o1TqbeUa",
        "colab_type": "code",
        "colab": {}
      },
      "source": [
        "X_train, X_test, Y_train, Y_test  = train_test_split(predictors, targets, test_size=0.5)"
      ],
      "execution_count": 0,
      "outputs": []
    },
    {
      "cell_type": "code",
      "metadata": {
        "id": "llvqvvStrW9v",
        "colab_type": "code",
        "colab": {}
      },
      "source": [
        "n_features = np.shape(predictors)\n",
        "n_classes = np.shape(targets)"
      ],
      "execution_count": 0,
      "outputs": []
    },
    {
      "cell_type": "code",
      "metadata": {
        "id": "6WphSFzQevZk",
        "colab_type": "code",
        "colab": {}
      },
      "source": [
        "names = ['color_b', 'color_g', \"color_r\"]\n",
        "feature_names = ['feature_1', 'feature_2']"
      ],
      "execution_count": 0,
      "outputs": []
    },
    {
      "cell_type": "markdown",
      "metadata": {
        "id": "9UBQmfq18CMf",
        "colab_type": "text"
      },
      "source": [
        "Unfortunately, this last cell of code had an error that was not able to be fixed. At this point in the code, libraries, definitions, classes, functions, and the data had been prepared to be combined into a model that could then have attributes and neuron numbers altered so that the most simple and accurate model could be discovered.\n",
        "\n",
        "\n",
        "\n",
        "The last definition, for create_model_network, was created successfully but a component of the line beginning with \"models\" was faulty (the error message indicates that a tuple was involved where it should not have been). \n",
        "\n",
        "\n",
        "In theory, finding the simplest neural network is ideal. Reducing complexity can improve efficiency of the code, readability of the process, and may also reduce the chance of overfitting of the model. Overfitting can arise from the model accommodating too many unimportant features of the data, often called \"noise\", so that the predictions and trends learned by the machine are no longer meaningful. An overfitted model will cease to learn the important relationships in the data and instead will develop structures that elevate less important features in the data.\n",
        "\n",
        "\n",
        "In order to find the simplest neural network, a few adjustments to the model can be made. One option is to alter the activation function. We could set it to sigmoid, which works well in presenting smoothness in networks handling large data with many neurons. We could also select hyperbolic tangent, exponential, or ReLU as discussed/defined earlier. \n",
        "\n",
        "\n",
        "Another approach to simplifying the neural network would have been to alter the number of neurons. Given the dataset's characteristics (two prediction variables and three potential classes), reducing the number of neurons would have been worth evaluating. This could have reduced the noise in the data and in turn reduced the chances of overfitting.\n",
        "\n",
        "\n",
        "By running the last line, create_model().summary(), we could have viewed an analysis that showed the correctly predicted proportion of data with the error term so that we could have compared the performance across the models after their alterations had taken place (changing activation function, changing the number of neurons). This information would have allowed us to determine the simplest model with the highest accuracy in predicting the correct classes (colors)."
      ]
    },
    {
      "cell_type": "code",
      "metadata": {
        "id": "MCoO60nde68s",
        "colab_type": "code",
        "outputId": "a663a37f-1fc4-4ffd-f458-a8d5db7003dd",
        "colab": {
          "base_uri": "https://localhost:8080/",
          "height": 421
        }
      },
      "source": [
        "from keras.models import Sequential\n",
        "from keras.layers import Dense\n",
        "\n",
        "def create_model_network(input_dim, output_dim, neurons, layers=1, name='model'):\n",
        "    def create_model():\n",
        "        # Create model\n",
        "        model = Sequential(name=name)\n",
        "        for i in range(layers):\n",
        "            model.add(Dense(neurons, input_dim=input_dim, activation='relu'))\n",
        "        model.add(Dense(output_dim, activation='softmax'))\n",
        "\n",
        "        # Compile model\n",
        "        model.compile(loss='categorical_crossentropy', \n",
        "                      optimizer='adam', \n",
        "                      metrics=['accuracy'])\n",
        "        return model\n",
        "    return create_model\n",
        "\n",
        "models = [create_model_network(n_features, n_classes, 8, i, 'model{}'.format(i)) \n",
        "          for i in range(1, 4)]\n",
        "\n",
        "for create_model in models:\n",
        "    create_model().summary()"
      ],
      "execution_count": 47,
      "outputs": [
        {
          "output_type": "error",
          "ename": "TypeError",
          "evalue": "ignored",
          "traceback": [
            "\u001b[0;31m---------------------------------------------------------------------------\u001b[0m",
            "\u001b[0;31mTypeError\u001b[0m                                 Traceback (most recent call last)",
            "\u001b[0;32m/usr/local/lib/python3.6/dist-packages/tensorflow/python/eager/execute.py\u001b[0m in \u001b[0;36mmake_shape\u001b[0;34m(v, arg_name)\u001b[0m\n\u001b[1;32m    145\u001b[0m   \u001b[0;32mtry\u001b[0m\u001b[0;34m:\u001b[0m\u001b[0;34m\u001b[0m\u001b[0;34m\u001b[0m\u001b[0m\n\u001b[0;32m--> 146\u001b[0;31m     \u001b[0mshape\u001b[0m \u001b[0;34m=\u001b[0m \u001b[0mtensor_shape\u001b[0m\u001b[0;34m.\u001b[0m\u001b[0mas_shape\u001b[0m\u001b[0;34m(\u001b[0m\u001b[0mv\u001b[0m\u001b[0;34m)\u001b[0m\u001b[0;34m\u001b[0m\u001b[0;34m\u001b[0m\u001b[0m\n\u001b[0m\u001b[1;32m    147\u001b[0m   \u001b[0;32mexcept\u001b[0m \u001b[0mTypeError\u001b[0m \u001b[0;32mas\u001b[0m \u001b[0me\u001b[0m\u001b[0;34m:\u001b[0m\u001b[0;34m\u001b[0m\u001b[0;34m\u001b[0m\u001b[0m\n",
            "\u001b[0;32m/usr/local/lib/python3.6/dist-packages/tensorflow/python/framework/tensor_shape.py\u001b[0m in \u001b[0;36mas_shape\u001b[0;34m(shape)\u001b[0m\n\u001b[1;32m   1203\u001b[0m   \u001b[0;32melse\u001b[0m\u001b[0;34m:\u001b[0m\u001b[0;34m\u001b[0m\u001b[0;34m\u001b[0m\u001b[0m\n\u001b[0;32m-> 1204\u001b[0;31m     \u001b[0;32mreturn\u001b[0m \u001b[0mTensorShape\u001b[0m\u001b[0;34m(\u001b[0m\u001b[0mshape\u001b[0m\u001b[0;34m)\u001b[0m\u001b[0;34m\u001b[0m\u001b[0;34m\u001b[0m\u001b[0m\n\u001b[0m\u001b[1;32m   1205\u001b[0m \u001b[0;34m\u001b[0m\u001b[0m\n",
            "\u001b[0;32m/usr/local/lib/python3.6/dist-packages/tensorflow/python/framework/tensor_shape.py\u001b[0m in \u001b[0;36m__init__\u001b[0;34m(self, dims)\u001b[0m\n\u001b[1;32m    773\u001b[0m         \u001b[0;31m# Got a list of dimensions\u001b[0m\u001b[0;34m\u001b[0m\u001b[0;34m\u001b[0m\u001b[0;34m\u001b[0m\u001b[0m\n\u001b[0;32m--> 774\u001b[0;31m         \u001b[0mself\u001b[0m\u001b[0;34m.\u001b[0m\u001b[0m_dims\u001b[0m \u001b[0;34m=\u001b[0m \u001b[0;34m[\u001b[0m\u001b[0mas_dimension\u001b[0m\u001b[0;34m(\u001b[0m\u001b[0md\u001b[0m\u001b[0;34m)\u001b[0m \u001b[0;32mfor\u001b[0m \u001b[0md\u001b[0m \u001b[0;32min\u001b[0m \u001b[0mdims_iter\u001b[0m\u001b[0;34m]\u001b[0m\u001b[0;34m\u001b[0m\u001b[0;34m\u001b[0m\u001b[0m\n\u001b[0m\u001b[1;32m    775\u001b[0m \u001b[0;34m\u001b[0m\u001b[0m\n",
            "\u001b[0;32m/usr/local/lib/python3.6/dist-packages/tensorflow/python/framework/tensor_shape.py\u001b[0m in \u001b[0;36m<listcomp>\u001b[0;34m(.0)\u001b[0m\n\u001b[1;32m    773\u001b[0m         \u001b[0;31m# Got a list of dimensions\u001b[0m\u001b[0;34m\u001b[0m\u001b[0;34m\u001b[0m\u001b[0;34m\u001b[0m\u001b[0m\n\u001b[0;32m--> 774\u001b[0;31m         \u001b[0mself\u001b[0m\u001b[0;34m.\u001b[0m\u001b[0m_dims\u001b[0m \u001b[0;34m=\u001b[0m \u001b[0;34m[\u001b[0m\u001b[0mas_dimension\u001b[0m\u001b[0;34m(\u001b[0m\u001b[0md\u001b[0m\u001b[0;34m)\u001b[0m \u001b[0;32mfor\u001b[0m \u001b[0md\u001b[0m \u001b[0;32min\u001b[0m \u001b[0mdims_iter\u001b[0m\u001b[0;34m]\u001b[0m\u001b[0;34m\u001b[0m\u001b[0;34m\u001b[0m\u001b[0m\n\u001b[0m\u001b[1;32m    775\u001b[0m \u001b[0;34m\u001b[0m\u001b[0m\n",
            "\u001b[0;32m/usr/local/lib/python3.6/dist-packages/tensorflow/python/framework/tensor_shape.py\u001b[0m in \u001b[0;36mas_dimension\u001b[0;34m(value)\u001b[0m\n\u001b[1;32m    715\u001b[0m   \u001b[0;32melse\u001b[0m\u001b[0;34m:\u001b[0m\u001b[0;34m\u001b[0m\u001b[0;34m\u001b[0m\u001b[0m\n\u001b[0;32m--> 716\u001b[0;31m     \u001b[0;32mreturn\u001b[0m \u001b[0mDimension\u001b[0m\u001b[0;34m(\u001b[0m\u001b[0mvalue\u001b[0m\u001b[0;34m)\u001b[0m\u001b[0;34m\u001b[0m\u001b[0;34m\u001b[0m\u001b[0m\n\u001b[0m\u001b[1;32m    717\u001b[0m \u001b[0;34m\u001b[0m\u001b[0m\n",
            "\u001b[0;32m/usr/local/lib/python3.6/dist-packages/tensorflow/python/framework/tensor_shape.py\u001b[0m in \u001b[0;36m__init__\u001b[0;34m(self, value)\u001b[0m\n\u001b[1;32m    184\u001b[0m     \u001b[0;32melse\u001b[0m\u001b[0;34m:\u001b[0m\u001b[0;34m\u001b[0m\u001b[0;34m\u001b[0m\u001b[0m\n\u001b[0;32m--> 185\u001b[0;31m       \u001b[0mself\u001b[0m\u001b[0;34m.\u001b[0m\u001b[0m_value\u001b[0m \u001b[0;34m=\u001b[0m \u001b[0mint\u001b[0m\u001b[0;34m(\u001b[0m\u001b[0mvalue\u001b[0m\u001b[0;34m)\u001b[0m\u001b[0;34m\u001b[0m\u001b[0;34m\u001b[0m\u001b[0m\n\u001b[0m\u001b[1;32m    186\u001b[0m       if (not isinstance(value, compat.bytes_or_text_types) and\n",
            "\u001b[0;31mTypeError\u001b[0m: int() argument must be a string, a bytes-like object or a number, not 'tuple'",
            "\nDuring handling of the above exception, another exception occurred:\n",
            "\u001b[0;31mTypeError\u001b[0m                                 Traceback (most recent call last)",
            "\u001b[0;32m<ipython-input-47-7aa96f6ef432>\u001b[0m in \u001b[0;36m<module>\u001b[0;34m()\u001b[0m\n\u001b[1;32m     21\u001b[0m \u001b[0;34m\u001b[0m\u001b[0m\n\u001b[1;32m     22\u001b[0m \u001b[0;32mfor\u001b[0m \u001b[0mcreate_model\u001b[0m \u001b[0;32min\u001b[0m \u001b[0mmodels\u001b[0m\u001b[0;34m:\u001b[0m\u001b[0;34m\u001b[0m\u001b[0;34m\u001b[0m\u001b[0m\n\u001b[0;32m---> 23\u001b[0;31m     \u001b[0mcreate_model\u001b[0m\u001b[0;34m(\u001b[0m\u001b[0;34m)\u001b[0m\u001b[0;34m.\u001b[0m\u001b[0msummary\u001b[0m\u001b[0;34m(\u001b[0m\u001b[0;34m)\u001b[0m\u001b[0;34m\u001b[0m\u001b[0;34m\u001b[0m\u001b[0m\n\u001b[0m",
            "\u001b[0;32m<ipython-input-47-7aa96f6ef432>\u001b[0m in \u001b[0;36mcreate_model\u001b[0;34m()\u001b[0m\n\u001b[1;32m      7\u001b[0m         \u001b[0mmodel\u001b[0m \u001b[0;34m=\u001b[0m \u001b[0mSequential\u001b[0m\u001b[0;34m(\u001b[0m\u001b[0mname\u001b[0m\u001b[0;34m=\u001b[0m\u001b[0mname\u001b[0m\u001b[0;34m)\u001b[0m\u001b[0;34m\u001b[0m\u001b[0;34m\u001b[0m\u001b[0m\n\u001b[1;32m      8\u001b[0m         \u001b[0;32mfor\u001b[0m \u001b[0mi\u001b[0m \u001b[0;32min\u001b[0m \u001b[0mrange\u001b[0m\u001b[0;34m(\u001b[0m\u001b[0mlayers\u001b[0m\u001b[0;34m)\u001b[0m\u001b[0;34m:\u001b[0m\u001b[0;34m\u001b[0m\u001b[0;34m\u001b[0m\u001b[0m\n\u001b[0;32m----> 9\u001b[0;31m             \u001b[0mmodel\u001b[0m\u001b[0;34m.\u001b[0m\u001b[0madd\u001b[0m\u001b[0;34m(\u001b[0m\u001b[0mDense\u001b[0m\u001b[0;34m(\u001b[0m\u001b[0mneurons\u001b[0m\u001b[0;34m,\u001b[0m \u001b[0minput_dim\u001b[0m\u001b[0;34m=\u001b[0m\u001b[0minput_dim\u001b[0m\u001b[0;34m,\u001b[0m \u001b[0mactivation\u001b[0m\u001b[0;34m=\u001b[0m\u001b[0;34m'relu'\u001b[0m\u001b[0;34m)\u001b[0m\u001b[0;34m)\u001b[0m\u001b[0;34m\u001b[0m\u001b[0;34m\u001b[0m\u001b[0m\n\u001b[0m\u001b[1;32m     10\u001b[0m         \u001b[0mmodel\u001b[0m\u001b[0;34m.\u001b[0m\u001b[0madd\u001b[0m\u001b[0;34m(\u001b[0m\u001b[0mDense\u001b[0m\u001b[0;34m(\u001b[0m\u001b[0moutput_dim\u001b[0m\u001b[0;34m,\u001b[0m \u001b[0mactivation\u001b[0m\u001b[0;34m=\u001b[0m\u001b[0;34m'softmax'\u001b[0m\u001b[0;34m)\u001b[0m\u001b[0;34m)\u001b[0m\u001b[0;34m\u001b[0m\u001b[0;34m\u001b[0m\u001b[0m\n\u001b[1;32m     11\u001b[0m \u001b[0;34m\u001b[0m\u001b[0m\n",
            "\u001b[0;32m/usr/local/lib/python3.6/dist-packages/keras/engine/sequential.py\u001b[0m in \u001b[0;36madd\u001b[0;34m(self, layer)\u001b[0m\n\u001b[1;32m    159\u001b[0m                         \u001b[0mbatch_shape\u001b[0m\u001b[0;34m=\u001b[0m\u001b[0mbatch_shape\u001b[0m\u001b[0;34m,\u001b[0m\u001b[0;34m\u001b[0m\u001b[0;34m\u001b[0m\u001b[0m\n\u001b[1;32m    160\u001b[0m                         \u001b[0mdtype\u001b[0m\u001b[0;34m=\u001b[0m\u001b[0mdtype\u001b[0m\u001b[0;34m,\u001b[0m\u001b[0;34m\u001b[0m\u001b[0;34m\u001b[0m\u001b[0m\n\u001b[0;32m--> 161\u001b[0;31m                         name=layer.name + '_input')\n\u001b[0m\u001b[1;32m    162\u001b[0m                     \u001b[0;31m# This will build the current layer\u001b[0m\u001b[0;34m\u001b[0m\u001b[0;34m\u001b[0m\u001b[0;34m\u001b[0m\u001b[0m\n\u001b[1;32m    163\u001b[0m                     \u001b[0;31m# and create the node connecting the current layer\u001b[0m\u001b[0;34m\u001b[0m\u001b[0;34m\u001b[0m\u001b[0;34m\u001b[0m\u001b[0m\n",
            "\u001b[0;32m/usr/local/lib/python3.6/dist-packages/keras/engine/input_layer.py\u001b[0m in \u001b[0;36mInput\u001b[0;34m(shape, batch_shape, name, dtype, sparse, tensor)\u001b[0m\n\u001b[1;32m    176\u001b[0m                              \u001b[0mname\u001b[0m\u001b[0;34m=\u001b[0m\u001b[0mname\u001b[0m\u001b[0;34m,\u001b[0m \u001b[0mdtype\u001b[0m\u001b[0;34m=\u001b[0m\u001b[0mdtype\u001b[0m\u001b[0;34m,\u001b[0m\u001b[0;34m\u001b[0m\u001b[0;34m\u001b[0m\u001b[0m\n\u001b[1;32m    177\u001b[0m                              \u001b[0msparse\u001b[0m\u001b[0;34m=\u001b[0m\u001b[0msparse\u001b[0m\u001b[0;34m,\u001b[0m\u001b[0;34m\u001b[0m\u001b[0;34m\u001b[0m\u001b[0m\n\u001b[0;32m--> 178\u001b[0;31m                              input_tensor=tensor)\n\u001b[0m\u001b[1;32m    179\u001b[0m     \u001b[0;31m# Return tensor including _keras_shape and _keras_history.\u001b[0m\u001b[0;34m\u001b[0m\u001b[0;34m\u001b[0m\u001b[0;34m\u001b[0m\u001b[0m\n\u001b[1;32m    180\u001b[0m     \u001b[0;31m# Note that in this case train_output and test_output are the same pointer.\u001b[0m\u001b[0;34m\u001b[0m\u001b[0;34m\u001b[0m\u001b[0;34m\u001b[0m\u001b[0m\n",
            "\u001b[0;32m/usr/local/lib/python3.6/dist-packages/keras/legacy/interfaces.py\u001b[0m in \u001b[0;36mwrapper\u001b[0;34m(*args, **kwargs)\u001b[0m\n\u001b[1;32m     89\u001b[0m                 warnings.warn('Update your `' + object_name + '` call to the ' +\n\u001b[1;32m     90\u001b[0m                               'Keras 2 API: ' + signature, stacklevel=2)\n\u001b[0;32m---> 91\u001b[0;31m             \u001b[0;32mreturn\u001b[0m \u001b[0mfunc\u001b[0m\u001b[0;34m(\u001b[0m\u001b[0;34m*\u001b[0m\u001b[0margs\u001b[0m\u001b[0;34m,\u001b[0m \u001b[0;34m**\u001b[0m\u001b[0mkwargs\u001b[0m\u001b[0;34m)\u001b[0m\u001b[0;34m\u001b[0m\u001b[0;34m\u001b[0m\u001b[0m\n\u001b[0m\u001b[1;32m     92\u001b[0m         \u001b[0mwrapper\u001b[0m\u001b[0;34m.\u001b[0m\u001b[0m_original_function\u001b[0m \u001b[0;34m=\u001b[0m \u001b[0mfunc\u001b[0m\u001b[0;34m\u001b[0m\u001b[0;34m\u001b[0m\u001b[0m\n\u001b[1;32m     93\u001b[0m         \u001b[0;32mreturn\u001b[0m \u001b[0mwrapper\u001b[0m\u001b[0;34m\u001b[0m\u001b[0;34m\u001b[0m\u001b[0m\n",
            "\u001b[0;32m/usr/local/lib/python3.6/dist-packages/keras/engine/input_layer.py\u001b[0m in \u001b[0;36m__init__\u001b[0;34m(self, input_shape, batch_size, batch_input_shape, dtype, input_tensor, sparse, name)\u001b[0m\n\u001b[1;32m     85\u001b[0m                                          \u001b[0mdtype\u001b[0m\u001b[0;34m=\u001b[0m\u001b[0mdtype\u001b[0m\u001b[0;34m,\u001b[0m\u001b[0;34m\u001b[0m\u001b[0;34m\u001b[0m\u001b[0m\n\u001b[1;32m     86\u001b[0m                                          \u001b[0msparse\u001b[0m\u001b[0;34m=\u001b[0m\u001b[0mself\u001b[0m\u001b[0;34m.\u001b[0m\u001b[0msparse\u001b[0m\u001b[0;34m,\u001b[0m\u001b[0;34m\u001b[0m\u001b[0;34m\u001b[0m\u001b[0m\n\u001b[0;32m---> 87\u001b[0;31m                                          name=self.name)\n\u001b[0m\u001b[1;32m     88\u001b[0m         \u001b[0;32melse\u001b[0m\u001b[0;34m:\u001b[0m\u001b[0;34m\u001b[0m\u001b[0;34m\u001b[0m\u001b[0m\n\u001b[1;32m     89\u001b[0m             \u001b[0mself\u001b[0m\u001b[0;34m.\u001b[0m\u001b[0mis_placeholder\u001b[0m \u001b[0;34m=\u001b[0m \u001b[0;32mFalse\u001b[0m\u001b[0;34m\u001b[0m\u001b[0;34m\u001b[0m\u001b[0m\n",
            "\u001b[0;32m/usr/local/lib/python3.6/dist-packages/keras/backend/tensorflow_backend.py\u001b[0m in \u001b[0;36mplaceholder\u001b[0;34m(shape, ndim, dtype, sparse, name)\u001b[0m\n\u001b[1;32m    515\u001b[0m         \u001b[0mx\u001b[0m \u001b[0;34m=\u001b[0m \u001b[0mtf\u001b[0m\u001b[0;34m.\u001b[0m\u001b[0msparse_placeholder\u001b[0m\u001b[0;34m(\u001b[0m\u001b[0mdtype\u001b[0m\u001b[0;34m,\u001b[0m \u001b[0mshape\u001b[0m\u001b[0;34m=\u001b[0m\u001b[0mshape\u001b[0m\u001b[0;34m,\u001b[0m \u001b[0mname\u001b[0m\u001b[0;34m=\u001b[0m\u001b[0mname\u001b[0m\u001b[0;34m)\u001b[0m\u001b[0;34m\u001b[0m\u001b[0;34m\u001b[0m\u001b[0m\n\u001b[1;32m    516\u001b[0m     \u001b[0;32melse\u001b[0m\u001b[0;34m:\u001b[0m\u001b[0;34m\u001b[0m\u001b[0;34m\u001b[0m\u001b[0m\n\u001b[0;32m--> 517\u001b[0;31m         \u001b[0mx\u001b[0m \u001b[0;34m=\u001b[0m \u001b[0mtf\u001b[0m\u001b[0;34m.\u001b[0m\u001b[0mplaceholder\u001b[0m\u001b[0;34m(\u001b[0m\u001b[0mdtype\u001b[0m\u001b[0;34m,\u001b[0m \u001b[0mshape\u001b[0m\u001b[0;34m=\u001b[0m\u001b[0mshape\u001b[0m\u001b[0;34m,\u001b[0m \u001b[0mname\u001b[0m\u001b[0;34m=\u001b[0m\u001b[0mname\u001b[0m\u001b[0;34m)\u001b[0m\u001b[0;34m\u001b[0m\u001b[0;34m\u001b[0m\u001b[0m\n\u001b[0m\u001b[1;32m    518\u001b[0m     \u001b[0mx\u001b[0m\u001b[0;34m.\u001b[0m\u001b[0m_keras_shape\u001b[0m \u001b[0;34m=\u001b[0m \u001b[0mshape\u001b[0m\u001b[0;34m\u001b[0m\u001b[0;34m\u001b[0m\u001b[0m\n\u001b[1;32m    519\u001b[0m     \u001b[0mx\u001b[0m\u001b[0;34m.\u001b[0m\u001b[0m_uses_learning_phase\u001b[0m \u001b[0;34m=\u001b[0m \u001b[0;32mFalse\u001b[0m\u001b[0;34m\u001b[0m\u001b[0;34m\u001b[0m\u001b[0m\n",
            "\u001b[0;32m/usr/local/lib/python3.6/dist-packages/tensorflow/python/ops/array_ops.py\u001b[0m in \u001b[0;36mplaceholder\u001b[0;34m(dtype, shape, name)\u001b[0m\n\u001b[1;32m   2141\u001b[0m                        \"eager execution.\")\n\u001b[1;32m   2142\u001b[0m \u001b[0;34m\u001b[0m\u001b[0m\n\u001b[0;32m-> 2143\u001b[0;31m   \u001b[0;32mreturn\u001b[0m \u001b[0mgen_array_ops\u001b[0m\u001b[0;34m.\u001b[0m\u001b[0mplaceholder\u001b[0m\u001b[0;34m(\u001b[0m\u001b[0mdtype\u001b[0m\u001b[0;34m=\u001b[0m\u001b[0mdtype\u001b[0m\u001b[0;34m,\u001b[0m \u001b[0mshape\u001b[0m\u001b[0;34m=\u001b[0m\u001b[0mshape\u001b[0m\u001b[0;34m,\u001b[0m \u001b[0mname\u001b[0m\u001b[0;34m=\u001b[0m\u001b[0mname\u001b[0m\u001b[0;34m)\u001b[0m\u001b[0;34m\u001b[0m\u001b[0;34m\u001b[0m\u001b[0m\n\u001b[0m\u001b[1;32m   2144\u001b[0m \u001b[0;34m\u001b[0m\u001b[0m\n\u001b[1;32m   2145\u001b[0m \u001b[0;34m\u001b[0m\u001b[0m\n",
            "\u001b[0;32m/usr/local/lib/python3.6/dist-packages/tensorflow/python/ops/gen_array_ops.py\u001b[0m in \u001b[0;36mplaceholder\u001b[0;34m(dtype, shape, name)\u001b[0m\n\u001b[1;32m   6258\u001b[0m   \u001b[0;32mif\u001b[0m \u001b[0mshape\u001b[0m \u001b[0;32mis\u001b[0m \u001b[0;32mNone\u001b[0m\u001b[0;34m:\u001b[0m\u001b[0;34m\u001b[0m\u001b[0;34m\u001b[0m\u001b[0m\n\u001b[1;32m   6259\u001b[0m     \u001b[0mshape\u001b[0m \u001b[0;34m=\u001b[0m \u001b[0;32mNone\u001b[0m\u001b[0;34m\u001b[0m\u001b[0;34m\u001b[0m\u001b[0m\n\u001b[0;32m-> 6260\u001b[0;31m   \u001b[0mshape\u001b[0m \u001b[0;34m=\u001b[0m \u001b[0m_execute\u001b[0m\u001b[0;34m.\u001b[0m\u001b[0mmake_shape\u001b[0m\u001b[0;34m(\u001b[0m\u001b[0mshape\u001b[0m\u001b[0;34m,\u001b[0m \u001b[0;34m\"shape\"\u001b[0m\u001b[0;34m)\u001b[0m\u001b[0;34m\u001b[0m\u001b[0;34m\u001b[0m\u001b[0m\n\u001b[0m\u001b[1;32m   6261\u001b[0m   _, _, _op = _op_def_lib._apply_op_helper(\n\u001b[1;32m   6262\u001b[0m         \"Placeholder\", dtype=dtype, shape=shape, name=name)\n",
            "\u001b[0;32m/usr/local/lib/python3.6/dist-packages/tensorflow/python/eager/execute.py\u001b[0m in \u001b[0;36mmake_shape\u001b[0;34m(v, arg_name)\u001b[0m\n\u001b[1;32m    146\u001b[0m     \u001b[0mshape\u001b[0m \u001b[0;34m=\u001b[0m \u001b[0mtensor_shape\u001b[0m\u001b[0;34m.\u001b[0m\u001b[0mas_shape\u001b[0m\u001b[0;34m(\u001b[0m\u001b[0mv\u001b[0m\u001b[0;34m)\u001b[0m\u001b[0;34m\u001b[0m\u001b[0;34m\u001b[0m\u001b[0m\n\u001b[1;32m    147\u001b[0m   \u001b[0;32mexcept\u001b[0m \u001b[0mTypeError\u001b[0m \u001b[0;32mas\u001b[0m \u001b[0me\u001b[0m\u001b[0;34m:\u001b[0m\u001b[0;34m\u001b[0m\u001b[0;34m\u001b[0m\u001b[0m\n\u001b[0;32m--> 148\u001b[0;31m     \u001b[0;32mraise\u001b[0m \u001b[0mTypeError\u001b[0m\u001b[0;34m(\u001b[0m\u001b[0;34m\"Error converting %s to a TensorShape: %s.\"\u001b[0m \u001b[0;34m%\u001b[0m \u001b[0;34m(\u001b[0m\u001b[0marg_name\u001b[0m\u001b[0;34m,\u001b[0m \u001b[0me\u001b[0m\u001b[0;34m)\u001b[0m\u001b[0;34m)\u001b[0m\u001b[0;34m\u001b[0m\u001b[0;34m\u001b[0m\u001b[0m\n\u001b[0m\u001b[1;32m    149\u001b[0m   \u001b[0;32mexcept\u001b[0m \u001b[0mValueError\u001b[0m \u001b[0;32mas\u001b[0m \u001b[0me\u001b[0m\u001b[0;34m:\u001b[0m\u001b[0;34m\u001b[0m\u001b[0;34m\u001b[0m\u001b[0m\n\u001b[1;32m    150\u001b[0m     raise ValueError(\"Error converting %s to a TensorShape: %s.\" % (arg_name,\n",
            "\u001b[0;31mTypeError\u001b[0m: Error converting shape to a TensorShape: int() argument must be a string, a bytes-like object or a number, not 'tuple'."
          ]
        }
      ]
    }
  ]
}